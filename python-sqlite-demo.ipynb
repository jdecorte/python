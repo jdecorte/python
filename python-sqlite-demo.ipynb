{
 "cells": [
  {
   "cell_type": "markdown",
   "metadata": {},
   "source": [
    "# Aan de slag met Python en relationele databanken\n",
    "\n",
    ">\n",
    ">Relationele databanken zijn, ruim 40 jaar nog hun introductie, nog steeds veruit de belangrijkste opslagmethode voor gestructureerde gegevens. \n",
    ">Deze gegevens dienen niet alleen voor de ondersteuning van de dagelijkse operaties van een organisatie, maar worden ook gebruikt voor geavanceerde rapporteringen en analyses.\n",
    ">\n",
    ">Na een korte introductie in relationele databanken en de SQL-taal, ga je in deze workshop zelf aan de slag om vanuit Python een relationele databank aan te spreken. Verschillende gangbare technieken, telkens met hun voor- en nadelen, komen aan bod.  \n",
    ">\n",
    ">Speciale aandacht gaat hierbij naar de onderhoudbaarheid van software en het omgaan met realistische datavolumes.\n",
    ">\n",
    ">We gebruiken hier SQLite als voorbeeld van een relationele databank wegens zijn eenvoud: single-user, single-file, geen server-software nodig. \n",
    ">Zie https://db-engines.com/en/ranking voor een overzicht van alle bestaande databasemanagementsystemen.   \n"
   ]
  },
  {
   "cell_type": "markdown",
   "metadata": {},
   "source": [
    "## Voorbeeld relationele database: Chinook\n",
    "\n",
    "![](./chinook_erd.jpg)"
   ]
  },
  {
   "cell_type": "markdown",
   "metadata": {},
   "source": [
    "## Voorbeeldstatements\n",
    "\n",
    "1. **Eenvoudige SELECT**  \n",
    "   Toon trackid, name en duur (in seconden) voor de 5 langste tracks. Sorteer aflopend op duur.\n",
    "    ```sql\n",
    "    select trackid, name, milliseconds/1000 \n",
    "    from tracks \n",
    "    order by milliseconds desc\n",
    "    limit 5;\n",
    "    ```\n",
    "  \n",
    "2. **Complexere SELECT**  \n",
    "   Wie zijn de 10 best verkopende artisten? Toon ook hun omzet.\n",
    "   \n",
    "    ```sql\n",
    "    select ar.Name,sum(ii.Quantity*ii.UnitPrice)  \n",
    "    from tracks t join albums al \n",
    "    on t.AlbumId = al.AlbumId \n",
    "    join artists ar on al.ArtistId = ar.ArtistId \n",
    "    join invoice_items ii  on t.TrackId = ii.TrackId \n",
    "    group by ar.Name\n",
    "    order by sum(ii.Quantity*ii.UnitPrice) desc\n",
    "    limit 10;\n",
    "    ```\n",
    "\n",
    "3. **UPDATE**  \n",
    "   Verhoog de prijzen van alle tracks van het genre x met y % (x en y zijn parameters).\n",
    "\n",
    "    ```sql\n",
    "    update tracks \n",
    "    set unitprice = unitprice * (1 + 0.10)\n",
    "    where GenreId in (select genreid from genres where name = 'Pop');\n",
    "   ``` \n",
    "\n",
    "4. **INSERT**  \n",
    "   Voeg de nieuwe artiest \"Camille\" toe. \n",
    "    ```sql\n",
    "   INSERT INTO artists(Name) VALUES('Camille')\n",
    "   ```\n",
    "\n",
    "5. **DELETE**  \n",
    "   Verwijder artiest \"Camille\". \n",
    "   ```sql\n",
    "   DELETE FROM artists WHERE name='Camille'\n",
    "    ```"
   ]
  },
  {
   "cell_type": "markdown",
   "metadata": {},
   "source": [
    "## 1. Plain SQL in Python code\n",
    "\n",
    "- SQL is voor Python slechts een string\n",
    "- Gebruik een database-specifieke Python-libary: sqlite3"
   ]
  },
  {
   "cell_type": "markdown",
   "metadata": {},
   "source": [
    "### 1.1. Initiële setup"
   ]
  },
  {
   "cell_type": "code",
   "execution_count": 54,
   "metadata": {
    "slideshow": {
     "slide_type": "slide"
    }
   },
   "outputs": [
    {
     "name": "stdout",
     "output_type": "stream",
     "text": [
      "*** Native SQLite API ***\n"
     ]
    }
   ],
   "source": [
    "######################################\n",
    "# Plain SQL: native SQLite API  \n",
    "######################################\n",
    "print ('*** Native SQLite API ***')\n",
    "\n",
    "import sqlite3\n",
    "\n",
    "# Connect to the database\n",
    "conn = sqlite3.connect(r\"C:\\sqlite\\db\\chinook.db\")\n",
    "cur = conn.cursor()\n"
   ]
  },
  {
   "cell_type": "markdown",
   "metadata": {},
   "source": [
    "### 1.2. Statement 1\n",
    "\n",
    "```sql\n",
    "select trackid, name, milliseconds/1000 \n",
    "from tracks \n",
    "order by milliseconds desc\n",
    "limit 5;\n",
    "```"
   ]
  },
  {
   "cell_type": "code",
   "execution_count": 55,
   "metadata": {},
   "outputs": [
    {
     "name": "stdout",
     "output_type": "stream",
     "text": [
      "Rows is of data type <class 'list'>\n",
      "\n",
      "ID    Name                           Seconds\n",
      "--------------------------------------------\n",
      "2820  Occupation / Precipice            5286\n",
      "3224  Through a Looking Glass           5088\n",
      "3244  Greetings from Earth, Pt. 1       2960\n",
      "3242  The Man With Nine Lives           2956\n",
      "3227  Battlestar Galactica, Pt. 2       2956\n"
     ]
    }
   ],
   "source": [
    "stmt = \"select trackid, name, milliseconds/1000 from tracks order by milliseconds desc limit 5\"\n",
    "cur.execute(stmt)\n",
    "rows = cur.fetchall()\n",
    "print(f'Rows is of data type {type(rows)}')\n",
    "print()\n",
    "\n",
    "print(f'{\"ID\":<5} {\"Name\":<30} {\"Seconds\":>7}')\n",
    "print('-'*44)\n",
    "for row in rows:\n",
    "    print(f'{row[0]:<5} {row[1]:<30} {round(row[2]):>7}')\n",
    "\n"
   ]
  },
  {
   "cell_type": "markdown",
   "metadata": {},
   "source": [
    "### 1.3. Statement 2\n",
    "\n",
    "```sql\n",
    "select ar.Name,sum(ii.Quantity*ii.UnitPrice)  \n",
    "from tracks t join albums al \n",
    "on t.AlbumId = al.AlbumId \n",
    "join artists ar on al.ArtistId = ar.ArtistId \n",
    "join invoice_items ii  on t.TrackId = ii.TrackId \n",
    "group by ar.Name\n",
    "order by sum(ii.Quantity*ii.UnitPrice) desc\n",
    "limit 10;\n",
    "```"
   ]
  },
  {
   "cell_type": "code",
   "execution_count": 56,
   "metadata": {},
   "outputs": [
    {
     "name": "stdout",
     "output_type": "stream",
     "text": [
      "Name                             Sales\n",
      "--------------------------------------\n",
      "Iron Maiden                     138.60\n",
      "U2                              105.93\n",
      "Metallica                        90.09\n",
      "Led Zeppelin                     86.13\n",
      "Lost                             81.59\n",
      "The Office                       49.75\n",
      "Os Paralamas Do Sucesso          44.55\n",
      "Deep Purple                      43.56\n",
      "Faith No More                    41.58\n",
      "Eric Clapton                     39.60\n"
     ]
    }
   ],
   "source": [
    "stmt = \"\"\"\n",
    "        select ar.Name,sum(ii.Quantity*ii.UnitPrice)  \n",
    "        from tracks t join albums al \n",
    "        on t.AlbumId = al.AlbumId \n",
    "        join artists ar on al.ArtistId = ar.ArtistId \n",
    "        join invoice_items ii  on t.TrackId = ii.TrackId \n",
    "        group by ar.Name\n",
    "        order by sum(ii.Quantity*ii.UnitPrice) desc\n",
    "        limit 10;\n",
    "        \"\"\"\n",
    "\n",
    "cur.execute(stmt)\n",
    "rows = cur.fetchall()\n",
    "\n",
    "print(f'{\"Name\":<30} {\"Sales\":>7}')\n",
    "print('-'*38)\n",
    "for row in rows:\n",
    "    print(f'{row[0]:<30} {round(row[1],2):7.2f}' )"
   ]
  },
  {
   "cell_type": "markdown",
   "metadata": {},
   "source": [
    "### 1.4. Statement 3\n",
    "\n",
    "```sql\n",
    "update tracks \n",
    "set unitprice = unitprice * (1 + ?/100.0)\n",
    "where GenreId in (select genreid from genres where name = ?);\n",
    "```"
   ]
  },
  {
   "cell_type": "code",
   "execution_count": 57,
   "metadata": {},
   "outputs": [
    {
     "data": {
      "text/plain": [
       "<sqlite3.Cursor at 0x17a6fcbdf40>"
      ]
     },
     "execution_count": 57,
     "metadata": {},
     "output_type": "execute_result"
    }
   ],
   "source": [
    "# Statement 3\n",
    "\n",
    "stmt = \"\"\"\n",
    "    update tracks \n",
    "    set unitprice = unitprice * (1 + ?/100.0)\n",
    "    where GenreId in (select genreid from genres where name = ?);\n",
    "    \"\"\"\n",
    "cur.execute(stmt, (10, 'Pop') )"
   ]
  },
  {
   "cell_type": "code",
   "execution_count": 58,
   "metadata": {},
   "outputs": [
    {
     "name": "stdout",
     "output_type": "stream",
     "text": [
      "Name                           Unitprice\n",
      "--------------------------------------\n",
      "323                               1.09\n",
      "324                               1.09\n",
      "325                               1.09\n",
      "326                               1.09\n",
      "327                               1.09\n",
      "328                               1.09\n",
      "329                               1.09\n",
      "330                               1.09\n",
      "331                               1.09\n",
      "332                               1.09\n",
      "333                               1.09\n",
      "334                               1.09\n",
      "335                               1.09\n",
      "336                               1.09\n",
      "3253                              1.09\n",
      "3254                              1.09\n",
      "3255                              1.09\n",
      "3256                              1.09\n",
      "3257                              1.09\n",
      "3258                              1.09\n",
      "3259                              1.09\n",
      "3260                              1.09\n",
      "3261                              1.09\n",
      "3262                              1.09\n",
      "3263                              1.09\n",
      "3264                              1.09\n",
      "3265                              1.09\n",
      "3266                              1.09\n",
      "3267                              1.09\n",
      "3268                              1.09\n",
      "3269                              1.09\n",
      "3270                              1.09\n",
      "3271                              1.09\n",
      "3272                              1.09\n",
      "3273                              1.09\n",
      "3274                              1.09\n",
      "3275                              1.09\n",
      "3467                              1.09\n",
      "3468                              1.09\n",
      "3469                              1.09\n",
      "3470                              1.09\n",
      "3471                              1.09\n",
      "3472                              1.09\n",
      "3473                              1.09\n",
      "3474                              1.09\n",
      "3475                              1.09\n",
      "3476                              1.09\n",
      "3477                              1.09\n"
     ]
    }
   ],
   "source": [
    "# Check results\n",
    "stmt = \"select trackid, unitprice from tracks where GenreId in (select genreid from genres where name = 'Pop')\"\n",
    "cur.execute(stmt)\n",
    "rows = cur.fetchall()\n",
    "\n",
    "print(f'{\"Name\":<30} {\"Unitprice\":>7}')\n",
    "print('-'*38)\n",
    "for row in rows:\n",
    "    print(f'{row[0]:<30} {round(row[1],2):7.2f}' )\n"
   ]
  },
  {
   "cell_type": "code",
   "execution_count": 59,
   "metadata": {},
   "outputs": [],
   "source": [
    "conn.rollback()"
   ]
  },
  {
   "cell_type": "code",
   "execution_count": 60,
   "metadata": {},
   "outputs": [],
   "source": [
    "conn.commit()"
   ]
  },
  {
   "cell_type": "markdown",
   "metadata": {},
   "source": [
    "### 1.5 Statement 4\n",
    "```sql\n",
    "INSERT INTO artists(Name) VALUES('Camille')\n",
    "```"
   ]
  },
  {
   "cell_type": "code",
   "execution_count": 61,
   "metadata": {},
   "outputs": [
    {
     "data": {
      "text/plain": [
       "<sqlite3.Cursor at 0x17a6fcbdf40>"
      ]
     },
     "execution_count": 61,
     "metadata": {},
     "output_type": "execute_result"
    }
   ],
   "source": [
    "stmt = \"INSERT INTO artists(Name) VALUES('Camille');\"\n",
    "cur.execute(stmt )"
   ]
  },
  {
   "cell_type": "code",
   "execution_count": 62,
   "metadata": {},
   "outputs": [
    {
     "name": "stdout",
     "output_type": "stream",
     "text": [
      "ArtistId   Name                          \n",
      "--------------------------------\n",
      "281        Camille                       \n"
     ]
    }
   ],
   "source": [
    "# Check results\n",
    "stmt = \"SELECT * FROM artists ORDER BY artistid DESC LIMIT 1;\"\n",
    "cur.execute(stmt)\n",
    "rows = cur.fetchall()\n",
    "\n",
    "print(f'{\"ArtistId\":<10} {\"Name\":<30}')\n",
    "print('-'*32)\n",
    "for row in rows:\n",
    "    print(f'{row[0]:<10} {row[1]:<30}' )"
   ]
  },
  {
   "cell_type": "markdown",
   "metadata": {},
   "source": [
    "Voer `rollback()` uit om de wijzigingen terug te draaien, of `commit()` om ze definitief te maken. "
   ]
  },
  {
   "cell_type": "code",
   "execution_count": 63,
   "metadata": {},
   "outputs": [],
   "source": [
    "conn.rollback()"
   ]
  },
  {
   "cell_type": "code",
   "execution_count": 11,
   "metadata": {},
   "outputs": [],
   "source": [
    "conn.commit()"
   ]
  },
  {
   "cell_type": "markdown",
   "metadata": {},
   "source": [
    "### 1.6 Statement 5\n",
    "```sql\n",
    "DELETE FROM artists WHERE name='Camille'\n",
    "```"
   ]
  },
  {
   "cell_type": "code",
   "execution_count": 12,
   "metadata": {},
   "outputs": [
    {
     "data": {
      "text/plain": [
       "<sqlite3.Cursor at 0x17a6e240040>"
      ]
     },
     "execution_count": 12,
     "metadata": {},
     "output_type": "execute_result"
    }
   ],
   "source": [
    "stmt = \"DELETE FROM artists WHERE name='Camille';\"\n",
    "cur.execute(stmt )"
   ]
  },
  {
   "cell_type": "code",
   "execution_count": 13,
   "metadata": {},
   "outputs": [
    {
     "name": "stdout",
     "output_type": "stream",
     "text": [
      "ArtistId   Name                          \n",
      "--------------------------------\n",
      "275        Philip Glass Ensemble         \n"
     ]
    }
   ],
   "source": [
    "# Check results\n",
    "stmt = \"SELECT * FROM artists ORDER BY artistid DESC LIMIT 1;\"\n",
    "cur.execute(stmt)\n",
    "rows = cur.fetchall()\n",
    "\n",
    "print(f'{\"ArtistId\":<10} {\"Name\":<30}')\n",
    "print('-'*32)\n",
    "for row in rows:\n",
    "    print(f'{row[0]:<10} {row[1]:<30}' )"
   ]
  },
  {
   "cell_type": "code",
   "execution_count": 14,
   "metadata": {},
   "outputs": [],
   "source": [
    "conn.rollback()"
   ]
  },
  {
   "cell_type": "code",
   "execution_count": 15,
   "metadata": {},
   "outputs": [],
   "source": [
    "conn.commit()"
   ]
  },
  {
   "cell_type": "markdown",
   "metadata": {},
   "source": [
    "### 1.7. Afsluiten"
   ]
  },
  {
   "cell_type": "code",
   "execution_count": 16,
   "metadata": {},
   "outputs": [],
   "source": [
    "conn.close()"
   ]
  },
  {
   "cell_type": "markdown",
   "metadata": {},
   "source": [
    "### 1.8. Voor- en nadelen van \"Plain SQL\""
   ]
  },
  {
   "cell_type": "markdown",
   "metadata": {},
   "source": [
    "- `+` Eenvoudig in gebruik: test je SQL string m.b.v. een SQL tool (e.g. DBeaver) en copy-paste naar Python\n",
    "- `-` Geen SQL syntax check bij de ontwikkeling --> errors duiken op at runtime\n",
    "- `-` Geen integratie met Python objecten.\n",
    "- `-` Code is niet porteerbaar naar andere databanken: \n",
    "  - `-` Je gebruikt software-bibliotheken die specifiek zijn voor een bepaald database-systeem (= native API)\n",
    "  - `-` SQL-code volgt dialect van een bepaalde database en is dus niet noodzakelijk porteerbaar naar een andere database. "
   ]
  },
  {
   "cell_type": "markdown",
   "metadata": {},
   "source": [
    "## 2. Language Integrated Query (LINQ)\n",
    "\n",
    "- Bouw het SQL-commando op aan de hand van Python-functies. \n",
    "- Gebruik een database-onafhankelijke Python-library: SQL Alchemy Core"
   ]
  },
  {
   "cell_type": "markdown",
   "metadata": {},
   "source": [
    "### 2.1. Initiële setup"
   ]
  },
  {
   "cell_type": "code",
   "execution_count": 17,
   "metadata": {},
   "outputs": [
    {
     "data": {
      "text/plain": [
       "'2.0.29'"
      ]
     },
     "execution_count": 17,
     "metadata": {},
     "output_type": "execute_result"
    }
   ],
   "source": [
    "###################################################################################\n",
    "#  LINQ (Language Integrated Query) met SQL Alchemy Core --> \n",
    "###################################################################################\n",
    "import sqlalchemy\n",
    "sqlalchemy.__version__"
   ]
  },
  {
   "cell_type": "code",
   "execution_count": 18,
   "metadata": {},
   "outputs": [
    {
     "name": "stdout",
     "output_type": "stream",
     "text": [
      "*** SQL Alchemy Core ***\n"
     ]
    }
   ],
   "source": [
    "# Establishing a connection\n",
    "print ('*** SQL Alchemy Core ***')\n",
    "\n",
    "from sqlalchemy import create_engine  \n",
    "engine = create_engine(r\"sqlite:///C:\\sqlite\\db\\chinook.db\")\n",
    "\n",
    "conn = engine.connect() "
   ]
  },
  {
   "cell_type": "code",
   "execution_count": 19,
   "metadata": {},
   "outputs": [],
   "source": [
    "# Setting up MetaData with Table Objects\n",
    "from sqlalchemy import MetaData, Table, Column, Integer, String, Float\n",
    "metadata = MetaData()   # This object is essentially a facade around a Python dictionary that stores a series of Table objects keyed to their string name. \n",
    "\n",
    "# Option 1: explicit Table objects\n",
    "Tracks = Table('tracks', metadata, \n",
    "               Column('TrackId', Integer, primary_key=True),\n",
    "               Column('Name', String),\n",
    "               Column('AlbumId', Integer),\n",
    "               Column('MediaTypeId', Integer),\n",
    "               Column('GenreId', Integer),\n",
    "               Column('Composer', String),\n",
    "               Column('Milliseconds', Integer),\n",
    "               Column('Bytes', Integer),\n",
    "               Column('UnitPrice', Float))          \n",
    "\n",
    "# Option 2: refecting tables: generate Table objects automatically from database     \n",
    "Albums = Table('albums', metadata, autoload_with=engine)  \n",
    "Artists = Table('artists', metadata, autoload_with=engine)\n",
    "Genres = Table('genres', metadata, autoload_with=engine)\n",
    "InvoiceItems = Table('invoice_items', metadata, autoload_with=engine)"
   ]
  },
  {
   "cell_type": "markdown",
   "metadata": {},
   "source": [
    "### 2.2. Statement 1\n",
    "\n",
    "```sql\n",
    "select trackid, name, milliseconds/1000 \n",
    "from tracks \n",
    "order by milliseconds desc\n",
    "limit 5;\n",
    "```"
   ]
  },
  {
   "cell_type": "code",
   "execution_count": 20,
   "metadata": {},
   "outputs": [
    {
     "name": "stdout",
     "output_type": "stream",
     "text": [
      "ID    Name                           Seconds\n",
      "--------------------------------------------\n",
      "2820  Occupation / Precipice            5287\n",
      "3224  Through a Looking Glass           5089\n",
      "3244  Greetings from Earth, Pt. 1       2960\n",
      "3242  The Man With Nine Lives           2957\n",
      "3227  Battlestar Galactica, Pt. 2       2956\n"
     ]
    }
   ],
   "source": [
    "from sqlalchemy import select\n",
    "stmt = select(Tracks.c.TrackId,Tracks.c.Name, Tracks.c.Milliseconds/1000) \\\n",
    "       .order_by(Tracks.c.Milliseconds.desc()) \\\n",
    "       .limit(5)\n",
    "\n",
    "rows = conn.execute(stmt)\n",
    "\n",
    "print(f'{\"ID\":<5} {\"Name\":<30} {\"Seconds\":>7}')\n",
    "print('-'*44)\n",
    "for row in rows:\n",
    "    print(f'{row[0]:<5} {row[1]:<30} {round(row[2]):>7}')\n"
   ]
  },
  {
   "cell_type": "markdown",
   "metadata": {},
   "source": [
    "### 2.3. Statement 2\n",
    "\n",
    "```sql\n",
    "select ar.Name,sum(ii.Quantity*ii.UnitPrice)  \n",
    "from tracks t join albums al \n",
    "on t.AlbumId = al.AlbumId \n",
    "join artists ar on al.ArtistId = ar.ArtistId \n",
    "join invoice_items ii  on t.TrackId = ii.TrackId \n",
    "group by ar.Name\n",
    "order by sum(ii.Quantity*ii.UnitPrice) desc\n",
    "limit 10;\n",
    "```"
   ]
  },
  {
   "cell_type": "code",
   "execution_count": 21,
   "metadata": {},
   "outputs": [
    {
     "name": "stdout",
     "output_type": "stream",
     "text": [
      "Name                             Sales\n",
      "--------------------------------------\n",
      "Iron Maiden                     138.60\n",
      "U2                              105.93\n",
      "Metallica                        90.09\n",
      "Led Zeppelin                     86.13\n",
      "Lost                             81.59\n",
      "The Office                       49.75\n",
      "Os Paralamas Do Sucesso          44.55\n",
      "Deep Purple                      43.56\n",
      "Faith No More                    41.58\n",
      "Eric Clapton                     39.60\n"
     ]
    }
   ],
   "source": [
    "from sqlalchemy import select, func\n",
    "\n",
    "stmt = select(Artists.c.Name,func.sum(InvoiceItems.c.Quantity * InvoiceItems.c.UnitPrice)) \\\n",
    "       .select_from(Tracks) \\\n",
    "       .join(Albums, Tracks.c.AlbumId == Albums.c.AlbumId) \\\n",
    "       .join(InvoiceItems, Tracks.c.TrackId == InvoiceItems.c.TrackId) \\\n",
    "       .join(Artists, Albums.c.ArtistId == Artists.c.ArtistId) \\\n",
    "       .group_by(Artists.c.Name) \\\n",
    "       .order_by(func.sum(InvoiceItems.c.Quantity * InvoiceItems.c.UnitPrice).desc()) \\\n",
    "       .limit(10)\n",
    "\n",
    "rows = conn.execute(stmt)\n",
    "\n",
    "print(f'{\"Name\":<30} {\"Sales\":>7}')\n",
    "print('-'*38)\n",
    "for row in rows:\n",
    "    print(f'{row[0]:<30} {round(row[1],2):7.2f}' )"
   ]
  },
  {
   "cell_type": "markdown",
   "metadata": {},
   "source": [
    "### 2.4. Statement 3\n",
    "\n",
    "```sql\n",
    "update tracks \n",
    "set unitprice = unitprice * (1 + ?/100.0)\n",
    "where GenreId in (select genreid from genres where name = ?);\n",
    "```"
   ]
  },
  {
   "cell_type": "code",
   "execution_count": 22,
   "metadata": {},
   "outputs": [
    {
     "name": "stdout",
     "output_type": "stream",
     "text": [
      "UPDATE tracks SET \"UnitPrice\"=(tracks.\"UnitPrice\" * (:param_1 + :pct)) WHERE tracks.\"GenreId\" IN (SELECT genres.\"GenreId\" \n",
      "FROM genres \n",
      "WHERE genres.\"Name\" = :genre)\n"
     ]
    },
    {
     "data": {
      "text/plain": [
       "<sqlalchemy.engine.cursor.CursorResult at 0x17a6eb76040>"
      ]
     },
     "execution_count": 22,
     "metadata": {},
     "output_type": "execute_result"
    }
   ],
   "source": [
    "from sqlalchemy import update,bindparam\n",
    "\n",
    "subq = select(Genres.c.GenreId).where(Genres.c.Name == bindparam(\"genre\"))\n",
    "\n",
    "stmt = (update(Tracks).values(UnitPrice=Tracks.c.UnitPrice * (1 + bindparam(\"pct\"))).where(Tracks.c.GenreId.in_(subq)))\n",
    "print(stmt)\n",
    "conn.execute(stmt,{\"pct\":0.1, \"genre\":\"Pop\"}) \n"
   ]
  },
  {
   "cell_type": "code",
   "execution_count": 23,
   "metadata": {},
   "outputs": [
    {
     "name": "stdout",
     "output_type": "stream",
     "text": [
      "ID    Name                                     Unitprice\n",
      "------------------------------------------------------\n",
      "323   Dig-Dig, Lambe-Lambe (Ao Vivo)              1.09\n",
      "324   Pererê                                      1.09\n",
      "325   TriboTchan                                  1.09\n",
      "326   Tapa Aqui, Descobre Ali                     1.09\n",
      "327   Daniela                                     1.09\n",
      "328   Bate Lata                                   1.09\n",
      "329   Garotas do Brasil                           1.09\n",
      "330   Levada do Amor (Ailoviu)                    1.09\n",
      "331   Lavadeira                                   1.09\n",
      "332   Reboladeira                                 1.09\n",
      "333   É que Nessa Encarnação Eu Nasci Manga       1.09\n",
      "334   Reggae Tchan                                1.09\n",
      "335   My Love                                     1.09\n",
      "336   Latinha de Cerveja                          1.09\n",
      "3253  Instant Karma                               1.09\n",
      "3254  #9 Dream                                    1.09\n",
      "3255  Mother                                      1.09\n",
      "3256  Give Peace a Chance                         1.09\n",
      "3257  Cold Turkey                                 1.09\n",
      "3258  Whatever Gets You Thru the Night            1.09\n",
      "3259  I'm Losing You                              1.09\n",
      "3260  Gimme Some Truth                            1.09\n",
      "3261  Oh, My Love                                 1.09\n",
      "3262  Imagine                                     1.09\n",
      "3263  Nobody Told Me                              1.09\n",
      "3264  Jealous Guy                                 1.09\n",
      "3265  Working Class Hero                          1.09\n",
      "3266  Power to the People                         1.09\n",
      "3267  Imagine                                     1.09\n",
      "3268  Beautiful Boy                               1.09\n",
      "3269  Isolation                                   1.09\n",
      "3270  Watching the Wheels                         1.09\n",
      "3271  Grow Old With Me                            1.09\n",
      "3272  Gimme Some Truth                            1.09\n",
      "3273  [Just Like] Starting Over                   1.09\n",
      "3274  God                                         1.09\n",
      "3275  Real Love                                   1.09\n",
      "3467  Intro / Stronger Than Me                    1.09\n",
      "3468  You Sent Me Flying / Cherry                 1.09\n",
      "3469  F**k Me Pumps                               1.09\n",
      "3470  I Heard Love Is Blind                       1.09\n",
      "3471  (There Is) No Greater Love (Teo Licks)      1.09\n",
      "3472  In My Bed                                   1.09\n",
      "3473  Take the Box                                1.09\n",
      "3474  October Song                                1.09\n",
      "3475  What Is It About Men                        1.09\n",
      "3476  Help Yourself                               1.09\n",
      "3477  Amy Amy Amy (Outro)                         1.09\n"
     ]
    }
   ],
   "source": [
    "# Check results\n",
    "from sqlalchemy import select\n",
    "\n",
    "subq = select(Genres.c.GenreId).where(Genres.c.Name == 'Pop')\n",
    "\n",
    "stmt = select(Tracks.c.TrackId,Tracks.c.Name, Tracks.c.UnitPrice) \\\n",
    "        .where(Tracks.c.GenreId.in_(subq))\n",
    "rows = conn.execute(stmt)\n",
    "\n",
    "print(f'{\"ID\":<5} {\"Name\":<40} {\"Unitprice\":>7}')\n",
    "print('-'*54)\n",
    "for row in rows:\n",
    "    print(f'{row[0]:<5} {row[1]:<40} {row[2]:7.2f}')\n",
    "    "
   ]
  },
  {
   "cell_type": "code",
   "execution_count": 24,
   "metadata": {},
   "outputs": [],
   "source": [
    "conn.rollback()"
   ]
  },
  {
   "cell_type": "code",
   "execution_count": 25,
   "metadata": {},
   "outputs": [],
   "source": [
    "conn.commit()"
   ]
  },
  {
   "cell_type": "markdown",
   "metadata": {},
   "source": [
    "### 2.5 Statement 4\n",
    "```sql\n",
    "INSERT INTO artists('Name') VALUES('Camille')\n",
    "```"
   ]
  },
  {
   "cell_type": "code",
   "execution_count": 26,
   "metadata": {},
   "outputs": [
    {
     "data": {
      "text/plain": [
       "<sqlalchemy.engine.cursor.CursorResult at 0x17a6eb76820>"
      ]
     },
     "execution_count": 26,
     "metadata": {},
     "output_type": "execute_result"
    }
   ],
   "source": [
    "from sqlalchemy import insert\n",
    "stmt = insert(Artists).values(Name='Camille')\n",
    "conn.execute(stmt)"
   ]
  },
  {
   "cell_type": "code",
   "execution_count": 27,
   "metadata": {},
   "outputs": [
    {
     "name": "stdout",
     "output_type": "stream",
     "text": [
      "ArtistId   Name                          \n",
      "--------------------------------\n",
      "281        Camille                       \n"
     ]
    }
   ],
   "source": [
    "# Check results\n",
    "from sqlalchemy import select\n",
    "\n",
    "stmt = select(Artists).order_by(Artists.c.ArtistId.desc()).limit(1)\n",
    "rows = conn.execute(stmt)\n",
    "\n",
    "print(f'{\"ArtistId\":<10} {\"Name\":<30}')\n",
    "print('-'*32)\n",
    "for row in rows:\n",
    "    print(f'{row[0]:<10} {row[1]:<30}' )"
   ]
  },
  {
   "cell_type": "code",
   "execution_count": 28,
   "metadata": {},
   "outputs": [],
   "source": [
    "conn.rollback()"
   ]
  },
  {
   "cell_type": "code",
   "execution_count": 29,
   "metadata": {},
   "outputs": [],
   "source": [
    "conn.commit()"
   ]
  },
  {
   "cell_type": "markdown",
   "metadata": {},
   "source": [
    "### 2.6 Statement 5\n",
    "```sql\n",
    "DELETE FROM artists WHERE name='Camille'\n",
    "```"
   ]
  },
  {
   "cell_type": "code",
   "execution_count": 30,
   "metadata": {},
   "outputs": [
    {
     "data": {
      "text/plain": [
       "<sqlalchemy.engine.cursor.CursorResult at 0x17a6eb76ac0>"
      ]
     },
     "execution_count": 30,
     "metadata": {},
     "output_type": "execute_result"
    }
   ],
   "source": [
    "from sqlalchemy import delete\n",
    "stmt = delete(Artists).where(Artists.c.Name == 'Camille')\n",
    "conn.execute(stmt)"
   ]
  },
  {
   "cell_type": "code",
   "execution_count": 31,
   "metadata": {},
   "outputs": [
    {
     "name": "stdout",
     "output_type": "stream",
     "text": [
      "ArtistId   Name                          \n",
      "--------------------------------\n",
      "275        Philip Glass Ensemble         \n"
     ]
    }
   ],
   "source": [
    "# Check results\n",
    "from sqlalchemy import select\n",
    "\n",
    "stmt = select(Artists).order_by(Artists.c.ArtistId.desc()).limit(1)\n",
    "rows = conn.execute(stmt)\n",
    "\n",
    "print(f'{\"ArtistId\":<10} {\"Name\":<30}')\n",
    "print('-'*32)\n",
    "for row in rows:\n",
    "    print(f'{row[0]:<10} {row[1]:<30}' )"
   ]
  },
  {
   "cell_type": "code",
   "execution_count": 32,
   "metadata": {},
   "outputs": [],
   "source": [
    "conn.rollback()"
   ]
  },
  {
   "cell_type": "code",
   "execution_count": 33,
   "metadata": {},
   "outputs": [],
   "source": [
    "conn.commit()"
   ]
  },
  {
   "cell_type": "markdown",
   "metadata": {},
   "source": [
    "### 2.7. Afsluiten"
   ]
  },
  {
   "cell_type": "code",
   "execution_count": 34,
   "metadata": {},
   "outputs": [],
   "source": [
    "conn.close()"
   ]
  },
  {
   "cell_type": "markdown",
   "metadata": {},
   "source": [
    "### 2.8. Voor- en nadelen van LINQ\n",
    "- `+` SQL syntax check door Python --> fouten ontdekt bij het ontwikkelen\n",
    "- `+` Porteerbaar tussen databanksystemen\n",
    "- `-` Geen integratie met Python-objecten.\n",
    "- `-` Extra syntax moet aangeleerd worden. "
   ]
  },
  {
   "cell_type": "markdown",
   "metadata": {},
   "source": [
    "## 3. Object Relational Mapping (ORM)"
   ]
  },
  {
   "cell_type": "markdown",
   "metadata": {},
   "source": [
    "- Werk volledig op basis van Python-objecten. \n",
    "- Gebruik een database-onafhankelijke Python-library: SQL Alchemy ORM"
   ]
  },
  {
   "cell_type": "markdown",
   "metadata": {},
   "source": [
    "### 3.1. Initiële setup"
   ]
  },
  {
   "cell_type": "code",
   "execution_count": 35,
   "metadata": {},
   "outputs": [
    {
     "name": "stdout",
     "output_type": "stream",
     "text": [
      "*** SQL Alchemy ORM ***\n"
     ]
    }
   ],
   "source": [
    "###################################################################################\n",
    "# Database independant + application objects --> SQL Alchemy ORM \n",
    "###################################################################################\n",
    "\n",
    "# Establishing a connection\n",
    "print ('*** SQL Alchemy ORM ***')\n",
    "\n",
    "from sqlalchemy import create_engine  \n",
    "from sqlalchemy.orm import Session\n",
    "\n",
    "engine = create_engine(r\"sqlite:///C:\\sqlite\\db\\chinook.db\")\n",
    "\n",
    "conn = engine.connect() \n",
    "\n",
    "session = Session(engine)\n"
   ]
  },
  {
   "cell_type": "markdown",
   "metadata": {},
   "source": [
    "Hier definiëren we constructies op moduleniveau die de structuren zullen vormen die we zullen bevragen vanuit de database.   \n",
    "Deze structuur, bekend als een Declarative Mapping, definieert zowel een Python objectmodel,   \n",
    "als database metadata die echte SQL tabellen beschrijft die bestaan, of zullen bestaan, in een bepaalde database. "
   ]
  },
  {
   "cell_type": "code",
   "execution_count": 36,
   "metadata": {},
   "outputs": [],
   "source": [
    "# from typing import List\n",
    "# from typing import Optional\n",
    "# from sqlalchemy import ForeignKey\n",
    "from sqlalchemy import String, select\n",
    "from sqlalchemy.orm import DeclarativeBase, Mapped, mapped_column\n",
    "# from sqlalchemy.orm import relationship\n",
    "\n",
    "# Setting up MetaData with Table Objects\n",
    "from sqlalchemy import MetaData, Table, Column, Integer, String, Float\n",
    "# metadata = MetaData()   # This object is essentially a facade around a Python dictionary that stores a series of Table objects keyed to their string name. \n",
    "\n",
    "class Base(DeclarativeBase):\n",
    "    pass\n",
    "\n",
    "# Option 1: explicit Table objects\n",
    "       \n",
    "class Tracks(Base):\n",
    "    __tablename__ = \"tracks\"\n",
    "    TrackId: Mapped[int] = mapped_column(primary_key=True)\n",
    "    Name: Mapped[str]\n",
    "    AlbumId: Mapped[int]\n",
    "    MediaTypeId: Mapped[int]\n",
    "    GenreId: Mapped[int]\n",
    "    Composer: Mapped[str]\n",
    "    Milliseconds: Mapped[int]\n",
    "    Bytes: Mapped[int]\n",
    "    UnitPrice: Mapped[float]\n",
    "\n",
    "# Option 2: refecting tables: generate Table objects automatically from database   \n",
    "\n",
    "Base.metadata.reflect(engine)   # get metadata from database\n",
    "\n",
    "class Albums(Base):  # each table is a subclass from the Base table\n",
    "    __table__ = Base.metadata.tables['albums']\n",
    "  \n",
    "class Artists(Base):\n",
    "    __table__ = Base.metadata.tables['artists']\n",
    "\n",
    "class Genres(Base):\n",
    "    __table__ = Base.metadata.tables['genres']\n",
    "\n",
    "class InvoiceItems(Base):\n",
    "    __table__ = Base.metadata.tables['invoice_items']\n",
    "\n"
   ]
  },
  {
   "cell_type": "markdown",
   "metadata": {},
   "source": [
    "### 3.2. Statement 1\n",
    "\n",
    "```sql\n",
    "select trackid, name, milliseconds/1000 \n",
    "from tracks \n",
    "order by milliseconds desc\n",
    "limit 5;\n",
    "```"
   ]
  },
  {
   "cell_type": "code",
   "execution_count": 37,
   "metadata": {},
   "outputs": [
    {
     "name": "stdout",
     "output_type": "stream",
     "text": [
      "ID    Name                           Seconds\n",
      "--------------------------------------------\n",
      "2820  Occupation / Precipice            5287\n",
      "3224  Through a Looking Glass           5089\n",
      "3244  Greetings from Earth, Pt. 1       2960\n",
      "3242  The Man With Nine Lives           2957\n",
      "3227  Battlestar Galactica, Pt. 2       2956\n"
     ]
    }
   ],
   "source": [
    "stmt = select(Tracks.TrackId,Tracks.Name, (Tracks.Milliseconds/1000).label('Seconds')) \\\n",
    "        .order_by(Tracks.Milliseconds.desc()) \\\n",
    "        .limit(5)\n",
    "\n",
    "tracks = session.execute(stmt)\n",
    "\n",
    "print(f'{\"ID\":<5} {\"Name\":<30} {\"Seconds\":>7}')\n",
    "print('-'*44)\n",
    "for track in tracks:\n",
    "    print(f'{track.TrackId:<5} {track.Name:<30} {round(track.Seconds):>7}')"
   ]
  },
  {
   "cell_type": "markdown",
   "metadata": {},
   "source": [
    "### 3.3. Statement 2\n",
    "\n",
    "```sql\n",
    "select ar.Name,sum(ii.Quantity*ii.UnitPrice)  \n",
    "from tracks t join albums al \n",
    "on t.AlbumId = al.AlbumId \n",
    "join artists ar on al.ArtistId = ar.ArtistId \n",
    "join invoice_items ii  on t.TrackId = ii.TrackId \n",
    "group by ar.Name\n",
    "order by sum(ii.Quantity*ii.UnitPrice) desc\n",
    "limit 10;\n",
    "```"
   ]
  },
  {
   "cell_type": "code",
   "execution_count": 38,
   "metadata": {},
   "outputs": [
    {
     "name": "stdout",
     "output_type": "stream",
     "text": [
      "Name                             Sales\n",
      "--------------------------------------\n",
      "Iron Maiden                     138.60\n",
      "U2                              105.93\n",
      "Metallica                        90.09\n",
      "Led Zeppelin                     86.13\n",
      "Lost                             81.59\n",
      "The Office                       49.75\n",
      "Os Paralamas Do Sucesso          44.55\n",
      "Deep Purple                      43.56\n",
      "Faith No More                    41.58\n",
      "Eric Clapton                     39.60\n"
     ]
    }
   ],
   "source": [
    "from sqlalchemy import func\n",
    "\n",
    "stmt = select(Artists.Name,func.sum(InvoiceItems.Quantity * InvoiceItems.UnitPrice).label('Sales')) \\\n",
    "        .select_from(Tracks) \\\n",
    "        .join(Albums, Tracks.AlbumId == Albums.AlbumId) \\\n",
    "        .join(InvoiceItems, Tracks.TrackId == InvoiceItems.TrackId) \\\n",
    "        .join(Artists, Albums.ArtistId == Artists.ArtistId) \\\n",
    "        .group_by(Artists.Name) \\\n",
    "        .order_by(func.sum(InvoiceItems.Quantity * InvoiceItems.UnitPrice).desc()) \\\n",
    "        .limit(10)\n",
    "\n",
    "rows = session.execute(stmt)\n",
    "\n",
    "print(f'{\"Name\":<30} {\"Sales\":>7}')\n",
    "print('-'*38)\n",
    "for row in rows:\n",
    "    print(f'{row.Name:<30} {round(row.Sales,2):7.2f}' )\n",
    "\n"
   ]
  },
  {
   "cell_type": "markdown",
   "metadata": {},
   "source": [
    "### 3.4. Statement 3\n",
    "\n",
    "```sql\n",
    "update tracks \n",
    "set unitprice = unitprice * (1 + ?/100.0)\n",
    "where GenreId in (select genreid from genres where name = ?);\n",
    "```"
   ]
  },
  {
   "cell_type": "code",
   "execution_count": 39,
   "metadata": {},
   "outputs": [
    {
     "name": "stdout",
     "output_type": "stream",
     "text": [
      "UPDATE tracks SET \"UnitPrice\"=(tracks.\"UnitPrice\" * (:param_1 + :pct)) WHERE tracks.\"GenreId\" IN (SELECT genres.\"GenreId\" \n",
      "FROM genres \n",
      "WHERE genres.\"Name\" = :genre)\n"
     ]
    },
    {
     "data": {
      "text/plain": [
       "<sqlalchemy.engine.cursor.CursorResult at 0x17a6eb76cf0>"
      ]
     },
     "execution_count": 39,
     "metadata": {},
     "output_type": "execute_result"
    }
   ],
   "source": [
    "# Option 1: with update statement\n",
    "from sqlalchemy import update, bindparam\n",
    "stmt = update(Tracks).values(UnitPrice=Tracks.UnitPrice * (1 + bindparam(\"pct\"))).where(Tracks.GenreId.in_(select(Genres.GenreId).where(Genres.Name == bindparam(\"genre\"))))\n",
    "print(stmt) # stringify the statement\n",
    "session.execute(stmt,{\"pct\":0.1, \"genre\":\"Pop\"}) \n"
   ]
  },
  {
   "cell_type": "code",
   "execution_count": 40,
   "metadata": {},
   "outputs": [
    {
     "name": "stdout",
     "output_type": "stream",
     "text": [
      "SELECT tracks.\"TrackId\", tracks.\"Name\", tracks.\"AlbumId\", tracks.\"MediaTypeId\", tracks.\"GenreId\", tracks.\"Composer\", tracks.\"Milliseconds\", tracks.\"Bytes\", tracks.\"UnitPrice\" \n",
      "FROM tracks \n",
      "WHERE tracks.\"GenreId\" IN (SELECT genres.\"GenreId\" \n",
      "FROM genres \n",
      "WHERE genres.\"Name\" = :Name_1)\n"
     ]
    }
   ],
   "source": [
    "# Option 2: with ORM objects\n",
    "pct = 0.1\n",
    "genre = 'Pop'\n",
    "stmt = select(Tracks).where(Tracks.GenreId.in_(select(Genres.GenreId).where(Genres.Name == genre))) \n",
    "print(stmt)  # stringify the statement\n",
    "tracks = session.scalars(stmt)  # with scalars() we get receive ORM entities directly\n",
    "\n",
    "for track in tracks:\n",
    "    track.UnitPrice = track.UnitPrice * (1 + pct)\n"
   ]
  },
  {
   "cell_type": "code",
   "execution_count": 41,
   "metadata": {},
   "outputs": [
    {
     "name": "stdout",
     "output_type": "stream",
     "text": [
      "SELECT tracks.\"TrackId\", tracks.\"Name\", tracks.\"AlbumId\", tracks.\"MediaTypeId\", tracks.\"GenreId\", tracks.\"Composer\", tracks.\"Milliseconds\", tracks.\"Bytes\", tracks.\"UnitPrice\" \n",
      "FROM tracks \n",
      "WHERE tracks.\"GenreId\" IN (SELECT genres.\"GenreId\" \n",
      "FROM genres \n",
      "WHERE genres.\"Name\" = :Name_1)\n",
      "ID    Name                                     Unitprice\n",
      "------------------------------------------------------\n",
      "323   Dig-Dig, Lambe-Lambe (Ao Vivo)              1.20\n",
      "324   Pererê                                      1.20\n",
      "325   TriboTchan                                  1.20\n",
      "326   Tapa Aqui, Descobre Ali                     1.20\n",
      "327   Daniela                                     1.20\n",
      "328   Bate Lata                                   1.20\n",
      "329   Garotas do Brasil                           1.20\n",
      "330   Levada do Amor (Ailoviu)                    1.20\n",
      "331   Lavadeira                                   1.20\n",
      "332   Reboladeira                                 1.20\n",
      "333   É que Nessa Encarnação Eu Nasci Manga       1.20\n",
      "334   Reggae Tchan                                1.20\n",
      "335   My Love                                     1.20\n",
      "336   Latinha de Cerveja                          1.20\n",
      "3253  Instant Karma                               1.20\n",
      "3254  #9 Dream                                    1.20\n",
      "3255  Mother                                      1.20\n",
      "3256  Give Peace a Chance                         1.20\n",
      "3257  Cold Turkey                                 1.20\n",
      "3258  Whatever Gets You Thru the Night            1.20\n",
      "3259  I'm Losing You                              1.20\n",
      "3260  Gimme Some Truth                            1.20\n",
      "3261  Oh, My Love                                 1.20\n",
      "3262  Imagine                                     1.20\n",
      "3263  Nobody Told Me                              1.20\n",
      "3264  Jealous Guy                                 1.20\n",
      "3265  Working Class Hero                          1.20\n",
      "3266  Power to the People                         1.20\n",
      "3267  Imagine                                     1.20\n",
      "3268  Beautiful Boy                               1.20\n",
      "3269  Isolation                                   1.20\n",
      "3270  Watching the Wheels                         1.20\n",
      "3271  Grow Old With Me                            1.20\n",
      "3272  Gimme Some Truth                            1.20\n",
      "3273  [Just Like] Starting Over                   1.20\n",
      "3274  God                                         1.20\n",
      "3275  Real Love                                   1.20\n",
      "3467  Intro / Stronger Than Me                    1.20\n",
      "3468  You Sent Me Flying / Cherry                 1.20\n",
      "3469  F**k Me Pumps                               1.20\n",
      "3470  I Heard Love Is Blind                       1.20\n",
      "3471  (There Is) No Greater Love (Teo Licks)      1.20\n",
      "3472  In My Bed                                   1.20\n",
      "3473  Take the Box                                1.20\n",
      "3474  October Song                                1.20\n",
      "3475  What Is It About Men                        1.20\n",
      "3476  Help Yourself                               1.20\n",
      "3477  Amy Amy Amy (Outro)                         1.20\n"
     ]
    }
   ],
   "source": [
    "# Check results\n",
    "stmt = select(Tracks).where(Tracks.GenreId.in_(select(Genres.GenreId).where(Genres.Name == 'Pop')))\n",
    "print(stmt)  # stringify the statement\n",
    "tracks = session.scalars(stmt)  # with scalars() we get receive ORM entities directly\n",
    "# tracks = tracks.scalars()  # convert result of select statement to list of objects\n",
    "\n",
    "print(f'{\"ID\":<5} {\"Name\":<40} {\"Unitprice\":>7}')\n",
    "print('-'*54)\n",
    "for track in tracks:\n",
    "    print(f'{track.TrackId:<5} {track.Name:<40} {track.UnitPrice:7.2f}')    "
   ]
  },
  {
   "cell_type": "code",
   "execution_count": 42,
   "metadata": {},
   "outputs": [],
   "source": [
    "session.rollback()"
   ]
  },
  {
   "cell_type": "code",
   "execution_count": 43,
   "metadata": {},
   "outputs": [],
   "source": [
    "session.commit()"
   ]
  },
  {
   "cell_type": "markdown",
   "metadata": {},
   "source": [
    "### 3.5 Statement 4\n",
    "```sql\n",
    "INSERT INTO artists('Name') VALUES('Camille')\n",
    "```\n",
    "\n",
    "- Bij gebruik van het ORM is het Session-object verantwoordelijk voor het construeren van Insert-constructies en het uitzenden ervan in een transactie. \n",
    "- De manier waarop we de Session instrueren dit te doen is door object entries toe te voegen.\n",
    "- De Session zorgt er dan voor dat deze nieuwe entries naar de database worden verzonden wanneer ze nodig zijn, met behulp van een proces dat bekend staat als een flush.\n",
    "\n"
   ]
  },
  {
   "cell_type": "code",
   "execution_count": 44,
   "metadata": {},
   "outputs": [],
   "source": [
    "camille = Artists(Name='Camille')\n",
    "session.add(camille)"
   ]
  },
  {
   "cell_type": "code",
   "execution_count": 45,
   "metadata": {},
   "outputs": [
    {
     "name": "stdout",
     "output_type": "stream",
     "text": [
      "SELECT artists.\"ArtistId\", artists.\"Name\" \n",
      "FROM artists ORDER BY artists.\"ArtistId\" DESC\n",
      " LIMIT :param_1\n",
      "ArtistId   Name                          \n",
      "--------------------------------\n",
      "281        Camille                       \n"
     ]
    }
   ],
   "source": [
    "# Check results\n",
    "stmt = select(Artists).order_by(Artists.ArtistId.desc()).limit(1)\n",
    "print(stmt)  # stringify the statement\n",
    "last_artist = session.execute(stmt).scalar_one() # convert result of select statement to object\n",
    "\n",
    "print(f'{\"ArtistId\":<10} {\"Name\":<30}')\n",
    "print('-'*32) \n",
    "print(f'{last_artist.ArtistId:<10} {last_artist.Name:<30}' )"
   ]
  },
  {
   "cell_type": "code",
   "execution_count": 46,
   "metadata": {},
   "outputs": [],
   "source": [
    "session.rollback()"
   ]
  },
  {
   "cell_type": "code",
   "execution_count": 47,
   "metadata": {},
   "outputs": [],
   "source": [
    "session.commit()"
   ]
  },
  {
   "cell_type": "markdown",
   "metadata": {},
   "source": [
    "### 3.6 Statement 5\n",
    "```sql\n",
    "DELETE FROM artists WHERE name='Camille'\n",
    "```"
   ]
  },
  {
   "cell_type": "code",
   "execution_count": 48,
   "metadata": {},
   "outputs": [
    {
     "name": "stdout",
     "output_type": "stream",
     "text": [
      "Artist Camille exists\n",
      "Artist Camille deleted\n"
     ]
    }
   ],
   "source": [
    "# Check results\n",
    "stmt = select(Artists).where(Artists.Name == 'Camille')\n",
    "result = session.scalars(stmt).all()  # with scalars() we get receive ORM entities directly, with all() we get a list of all objects. \n",
    "if len(result) > 0:\n",
    "    print('Artist Camille exists')\n",
    "    camille = result[0]   # get first artist with name Camille\n",
    "    session.delete(camille)\n",
    "    print('Artist Camille deleted')\n",
    "else:\n",
    "    print('Artist Camille does not exist')\n"
   ]
  },
  {
   "cell_type": "code",
   "execution_count": 49,
   "metadata": {},
   "outputs": [
    {
     "name": "stdout",
     "output_type": "stream",
     "text": [
      "ArtistId   Name                          \n",
      "--------------------------------\n",
      "275        Philip Glass Ensemble         \n"
     ]
    }
   ],
   "source": [
    "# Check results\n",
    "stmt = select(Artists).order_by(Artists.ArtistId.desc()).limit(1)\n",
    "\n",
    "last_artist = session.execute(stmt).scalar_one() # convert result of select statement to object\n",
    "\n",
    "print(f'{\"ArtistId\":<10} {\"Name\":<30}')\n",
    "print('-'*32) \n",
    "print(f'{last_artist.ArtistId:<10} {last_artist.Name:<30}' )"
   ]
  },
  {
   "cell_type": "code",
   "execution_count": 50,
   "metadata": {},
   "outputs": [],
   "source": [
    "session.rollback()"
   ]
  },
  {
   "cell_type": "code",
   "execution_count": 51,
   "metadata": {},
   "outputs": [],
   "source": [
    "session.commit()"
   ]
  },
  {
   "cell_type": "markdown",
   "metadata": {},
   "source": [
    "### 3.7. Afsluiten"
   ]
  },
  {
   "cell_type": "code",
   "execution_count": 52,
   "metadata": {},
   "outputs": [],
   "source": [
    "conn.close()"
   ]
  },
  {
   "cell_type": "markdown",
   "metadata": {},
   "source": [
    "### 3.8. Voor- en nadelen van ORM\n",
    "- `+` SQL syntax check door Python --> fouten ontdekt bij het ontwikkelen\n",
    "- `+` Porteerbaar tussen databanksystemen\n",
    "- `+` Integratie met Python-objecten.\n",
    "- `-` Extra syntax moet aangeleerd worden. \n",
    "- `-` Risico op trage code (vooral bij Optie 2: rechtstreeks gebruik van objecten) omdat men niet meer stilstaat bij gegenereerde SQL-commando's: \n",
    "  - SELECT *: onnodig veel kolommen ophalen\n",
    "  - teveel \"round-trips\" naar de database. "
   ]
  },
  {
   "cell_type": "markdown",
   "metadata": {},
   "source": [
    "## 4. Conclusies\n",
    "\n",
    "- Gebruik \"Plain SQL\" \n",
    "  - om snel resultaat te hebben\n",
    "  - als je vertrouwd bent met de SQL-taal\n",
    "  - voor erg complexe query's die moeilijk om te zetten zijn naar SQLAlchemy\n",
    "- Gebruik SQL Alchemy (ORM of Core)\n",
    "  - voor productiewaardige software\n",
    "- Gebruik SQL Alchemy ORM\n",
    "  - als object-oriëntatie een must is \n",
    "  - maar trap niet in de \"performantie-val\": zorg ervoor dat je goed weet wat er gebeurt op de database"
   ]
  }
 ],
 "metadata": {
  "kernelspec": {
   "display_name": "Python 3",
   "language": "python",
   "name": "python3"
  },
  "language_info": {
   "codemirror_mode": {
    "name": "ipython",
    "version": 3
   },
   "file_extension": ".py",
   "mimetype": "text/x-python",
   "name": "python",
   "nbconvert_exporter": "python",
   "pygments_lexer": "ipython3",
   "version": "3.11.8"
  }
 },
 "nbformat": 4,
 "nbformat_minor": 2
}
